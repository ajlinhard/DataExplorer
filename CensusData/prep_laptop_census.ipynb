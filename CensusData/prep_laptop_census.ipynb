{
 "cells": [
  {
   "cell_type": "code",
   "execution_count": 1,
   "id": "157fa0d9",
   "metadata": {},
   "outputs": [],
   "source": [
    "from pyspark.sql import SparkSession\n",
    "\n",
    "input_data = r\"F:\\DataSamples\\DataExplorer\\Census\\Census_Surnames\"\n",
    "output_wh = r\"F:\\Spark_Data_Test\\WH_Names\"\n",
    "\n",
    "spark = SparkSession.builder \\\n",
    "    .appName(\"Laptop Census\") \\\n",
    "    .master(\"local[*]\") \\\n",
    "    .config(\"spark.driver.host\", \"localhost\") \\\n",
    "    .enableHiveSupport() \\\n",
    "    .config(\"spark.sql.warehouse.dir\", output_wh) \\\n",
    "    .getOrCreate()"
   ]
  },
  {
   "cell_type": "code",
   "execution_count": 2,
   "id": "00c7b2b1",
   "metadata": {},
   "outputs": [
    {
     "data": {
      "text/plain": [
       "162254"
      ]
     },
     "execution_count": 2,
     "metadata": {},
     "output_type": "execute_result"
    }
   ],
   "source": [
    "df_base = spark.read.csv(input_data + r\"\\*.csv\", header=True, inferSchema=True)\n",
    "df_base.createOrReplaceTempView(\"census_surnames\")\n",
    "df_base.count()"
   ]
  },
  {
   "cell_type": "code",
   "execution_count": 26,
   "id": "0577b410",
   "metadata": {},
   "outputs": [
    {
     "name": "stdout",
     "output_type": "stream",
     "text": [
      "root\n",
      " |-- name: string (nullable = true)\n",
      " |-- rank: integer (nullable = true)\n",
      " |-- count: integer (nullable = true)\n",
      " |-- prop100k: double (nullable = true)\n",
      " |-- cum_prop100k: double (nullable = true)\n",
      " |-- pctwhite: string (nullable = true)\n",
      " |-- pctblack: string (nullable = true)\n",
      " |-- pctapi: string (nullable = true)\n",
      " |-- pctaian: string (nullable = true)\n",
      " |-- pct2prace: string (nullable = true)\n",
      " |-- pcthispanic: string (nullable = true)\n",
      "\n",
      "+---------------+----+--------+--------+------------+--------+--------+------+-------+---------+-----------+------------+\n",
      "|name           |rank|count   |prop100k|cum_prop100k|pctwhite|pctblack|pctapi|pctaian|pct2prace|pcthispanic|first_letter|\n",
      "+---------------+----+--------+--------+------------+--------+--------+------+-------+---------+-----------+------------+\n",
      "|ALL OTHER NAMES|0   |29312001|9936.97 |9936.97     |66.65   |8.53    |7.97  |0.86   |2.32     |13.67      |A           |\n",
      "|SMITH          |1   |2442977 |828.19  |828.19      |70.9    |23.11   |0.5   |0.89   |2.19     |2.4        |S           |\n",
      "|JOHNSON        |2   |1932812 |655.24  |1483.42     |58.97   |34.63   |0.54  |0.94   |2.56     |2.36       |J           |\n",
      "|WILLIAMS       |3   |1625252 |550.97  |2034.39     |45.75   |47.68   |0.46  |0.82   |2.81     |2.49       |W           |\n",
      "|BROWN          |4   |1437026 |487.16  |2521.56     |57.95   |35.6    |0.51  |0.87   |2.55     |2.52       |B           |\n",
      "|JONES          |5   |1425470 |483.24  |3004.8      |55.19   |38.48   |0.44  |1      |2.61     |2.29       |J           |\n",
      "|GARCIA         |6   |1166120 |395.32  |3400.12     |5.38    |0.45    |1.41  |0.47   |0.26     |92.03      |G           |\n",
      "|MILLER         |7   |1161437 |393.74  |3793.86     |84.11   |10.76   |0.54  |0.66   |1.77     |2.17       |M           |\n",
      "|DAVIS          |8   |1116357 |378.45  |4172.31     |62.2    |31.6    |0.49  |0.82   |2.45     |2.44       |D           |\n",
      "|RODRIGUEZ      |9   |1094924 |371.19  |4543.5      |4.75    |0.54    |0.57  |0.18   |0.18     |93.77      |R           |\n",
      "+---------------+----+--------+--------+------------+--------+--------+------+-------+---------+-----------+------------+\n",
      "only showing top 10 rows\n",
      "\n"
     ]
    }
   ],
   "source": [
    "from pyspark.sql.functions import *\n",
    "df_base.printSchema()\n",
    "df_base.withColumn(\"first_letter\", substring(\"name\", 1,1)).orderBy(desc(\"count\")).show(10, truncate=False)\n",
    "# df_base.select(left(\"name\", 1)).orderBy(desc(\"count\")).show(10, truncate=False)\n"
   ]
  },
  {
   "cell_type": "code",
   "execution_count": 11,
   "id": "6146582b",
   "metadata": {},
   "outputs": [
    {
     "data": {
      "text/plain": [
       "162254"
      ]
     },
     "execution_count": 11,
     "metadata": {},
     "output_type": "execute_result"
    }
   ],
   "source": [
    "df_base.select(\"name\").distinct().count()\n",
    "# df_base.agg(countDistinct(col(\"name\"))).show()"
   ]
  },
  {
   "cell_type": "code",
   "execution_count": 38,
   "id": "521b6957",
   "metadata": {},
   "outputs": [
    {
     "name": "stdout",
     "output_type": "stream",
     "text": [
      "+---------+----+-------+--------+------------+--------+--------+------+-------+---------+-----------+-----------+---------------+----------+--------------------+----------+-------------------+---------+---------+------------+-----------+\n",
      "|name     |rank|count  |prop100k|cum_prop100k|pctwhite|pctblack|pctapi|pctaian|pct2prace|pcthispanic|lower_bound|next_alpha_name|letter_sum|letter_running_total|letter_tot|letter_running_freq|avg_1    |avg_2    |first_letter|last_letter|\n",
      "+---------+----+-------+--------+------------+--------+--------+------+-------+---------+-----------+-----------+---------------+----------+--------------------+----------+-------------------+---------+---------+------------+-----------+\n",
      "|SMITH    |1   |2442977|828.19  |828.19      |70.9    |23.11   |0.5   |0.89   |2.19     |2.4        |0.0        |SANCHEZ        |2442977   |2442977             |25056728  |0.09749784568839155|2442977.0|2442977.0|S           |H          |\n",
      "|JOHNSON  |2   |1932812|655.24  |1483.42     |58.97   |34.63   |0.54  |0.94   |2.56     |2.36       |828.19     |JONES          |1932812   |1932812             |7935401   |0.2435682834427649 |1932812.0|1932812.0|J           |N          |\n",
      "|WILLIAMS |3   |1625252|550.97  |2034.39     |45.75   |47.68   |0.46  |0.82   |2.81     |2.49       |1483.42    |WILSON         |1625252   |1625252             |14741478  |0.11025027476892073|1625252.0|1625252.0|W           |S          |\n",
      "|BROWN    |4   |1437026|487.16  |2521.56     |57.95   |35.6    |0.51  |0.87   |2.55     |2.52       |2034.39    |BAKER          |1437026   |1437026             |22587641  |0.06362001237756523|1437026.0|1437026.0|B           |N          |\n",
      "|JONES    |5   |1425470|483.24  |3004.8      |55.19   |38.48   |0.44  |1      |2.61     |2.29       |2521.56    |JACKSON        |3358282   |3358282             |7935401   |0.4232025577535401 |1679141.0|1679141.0|J           |S          |\n",
      "|GARCIA   |6   |1166120|395.32  |3400.12     |5.38    |0.45    |1.41  |0.47   |0.26     |92.03      |3004.8     |GONZALEZ       |1166120   |1166120             |14814448  |0.07871504898461286|1166120.0|1166120.0|G           |A          |\n",
      "|MILLER   |7   |1161437|393.74  |3793.86     |84.11   |10.76   |0.54  |0.66   |1.77     |2.17       |3400.12    |MARTINEZ       |1161437   |1161437             |25610240  |0.04535049261545382|1161437.0|1161437.0|M           |R          |\n",
      "|DAVIS    |8   |1116357|378.45  |4172.31     |62.2    |31.6    |0.49  |0.82   |2.45     |2.44       |3793.86    |DIAZ           |1116357   |1116357             |12045696  |0.09267683660620357|1116357.0|1116357.0|D           |S          |\n",
      "|RODRIGUEZ|9   |1094924|371.19  |4543.5      |4.75    |0.54    |0.57  |0.18   |0.18     |93.77      |4172.31    |RAMIREZ        |1094924   |1094924             |15699799  |0.06974127503161028|1094924.0|1094924.0|R           |Z          |\n",
      "|MARTINEZ |10  |1060159|359.4   |4902.9      |5.28    |0.49    |0.6   |0.51   |0.22     |92.91      |4543.5     |MOORE          |2221596   |2221596             |25610240  |0.08674639519192323|1110798.0|1110798.0|M           |Z          |\n",
      "+---------+----+-------+--------+------------+--------+--------+------+-------+---------+-----------+-----------+---------------+----------+--------------------+----------+-------------------+---------+---------+------------+-----------+\n",
      "only showing top 10 rows\n",
      "\n"
     ]
    }
   ],
   "source": [
    "from pyspark.sql.window import Window\n",
    "\n",
    "next_record = Window.orderBy(\"cum_prop100k\")\n",
    "next_alpha = Window.partitionBy(substring(\"name\", 1,1)).orderBy(\"cum_prop100k\")\n",
    "next_alpha_run = Window.partitionBy(substring(\"name\", 1,1)).orderBy(\"cum_prop100k\").rangeBetween(Window.unboundedPreceding, Window.currentRow)\n",
    "alpha_run = Window.partitionBy(substring(\"name\", 1,1)).orderBy(\"cum_prop100k\").rowsBetween(Window.unboundedPreceding, Window.unboundedFollowing)\n",
    "\n",
    "df_range = df_base.filter(col(\"name\") != \"ALL OTHER NAMES\").withColumn(\"lower_bound\", lag(col(\"cum_prop100k\"), 1, 0).over(next_record)) \\\n",
    "    .withColumn(\"next_alpha_name\", lead(col(\"name\"), 1).over(next_alpha)) \\\n",
    "    .withColumn(\"letter_sum\", sum(col(\"count\")).over(next_alpha)) \\\n",
    "    .withColumn(\"letter_running_total\", sum(col(\"count\")).over(next_alpha_run)) \\\n",
    "    .withColumn(\"letter_tot\", sum(col(\"count\")).over(alpha_run)) \\\n",
    "    .withColumn(\"letter_running_freq\", sum(col(\"count\")).over(next_alpha_run) / sum(col(\"count\")).over(alpha_run)) \\\n",
    "    .withColumn(\"avg_1\", avg(col(\"count\")).over(next_alpha)) \\\n",
    "    .withColumn(\"avg_2\", avg(col(\"count\")).over(next_alpha_run)) \\\n",
    "    .withColumn(\"first_letter\", substring(\"name\", 1, 1)) \\\n",
    "    .withColumn(\"last_letter\", substring(\"name\", -1, 1))\n",
    "\n",
    "df_range.orderBy(\"cum_prop100k\").show(10, truncate=False)"
   ]
  },
  {
   "cell_type": "code",
   "execution_count": 39,
   "id": "8e6c6f02",
   "metadata": {},
   "outputs": [
    {
     "name": "stdout",
     "output_type": "stream",
     "text": [
      "+---------+----+------+--------+------------+--------+--------+------+-------+---------+-----------+-----------+---------------+----------+--------------------+----------+-------------------+------------------+------------------+------------+-----------+\n",
      "|name     |rank|count |prop100k|cum_prop100k|pctwhite|pctblack|pctapi|pctaian|pct2prace|pcthispanic|lower_bound|next_alpha_name|letter_sum|letter_running_total|letter_tot|letter_running_freq|avg_1             |avg_2             |first_letter|last_letter|\n",
      "+---------+----+------+--------+------------+--------+--------+------+-------+---------+-----------+-----------+---------------+----------+--------------------+----------+-------------------+------------------+------------------+------------+-----------+\n",
      "|ANDERSON |15  |784404|265.92  |6375.92     |75.17   |18.93   |0.61  |0.74   |2.11     |2.44       |6110.0     |ALLEN          |784404    |784404              |10080086  |0.07781719322632763|784404.0          |784404.0          |A           |N          |\n",
      "|ALLEN    |33  |482607|163.61  |10190.14    |67.59   |26.17   |0.54  |0.86   |2.38     |2.47       |10026.53   |ADAMS          |1267011   |1267011             |10080086  |0.12569446332104706|633505.5          |633505.5          |A           |N          |\n",
      "|ADAMS    |42  |427865|145.05  |11534.72    |74.02   |19.9    |0.56  |0.79   |2.16     |2.57       |11389.67   |ALVAREZ        |1694876   |1694876             |10080086  |0.16814102578093085|564958.6666666666 |564958.6666666666 |A           |S          |\n",
      "|ALVAREZ  |92  |233983|79.32   |16697.86    |5.18    |0.6     |1.16  |0.38   |0.23     |92.45      |16618.53   |ALEXANDER      |1928859   |1928859             |10080086  |0.1913534269449685 |482214.75         |482214.75         |A           |Z          |\n",
      "|ALEXANDER|118 |204621|69.37   |18637.23    |58.19   |34.04   |1.24  |0.7    |2.66     |3.17       |18567.86   |AGUILAR        |2133480   |2133480             |10080086  |0.2116529561354933 |426696.0          |426696.0          |A           |R          |\n",
      "|AGUILAR  |134 |186512|63.23   |19691.45    |4.03    |0.26    |1.64  |0.52   |0.23     |93.32      |19628.22   |ARNOLD         |2319992   |2319992             |10080086  |0.23015597287562825|386665.3333333333 |386665.3333333333 |A           |R          |\n",
      "|ARNOLD   |201 |138893|47.09   |23322.91    |81.27   |13.34   |0.57  |0.55   |1.87     |2.41       |23275.83   |ARMSTRONG      |2458885   |2458885             |10080086  |0.24393492277744455|351269.28571428574|351269.28571428574|A           |D          |\n",
      "|ARMSTRONG|213 |135044|45.78   |23879.56    |72.39   |21.01   |0.58  |0.93   |2.31     |2.79       |23833.78   |ANDREWS        |2593929   |2593929             |10080086  |0.25733203069894445|324241.125        |324241.125        |A           |G          |\n",
      "|ANDREWS  |218 |133799|45.36   |24107.1     |71.78   |21.58   |0.78  |1.09   |2.2      |2.57       |24061.74   |ALVARADO       |2727728   |2727728             |10080086  |0.27060562776944563|303080.8888888889 |303080.8888888889 |A           |S          |\n",
      "|ALVARADO |219 |133501|45.26   |24152.35    |4.29    |0.33    |0.53  |0.23   |0.2      |94.42      |24107.1    |AUSTIN         |2861229   |2861229             |10080086  |0.2838496616001094 |286122.9          |286122.9          |A           |O          |\n",
      "+---------+----+------+--------+------------+--------+--------+------+-------+---------+-----------+-----------+---------------+----------+--------------------+----------+-------------------+------------------+------------------+------------+-----------+\n",
      "only showing top 10 rows\n",
      "\n"
     ]
    }
   ],
   "source": [
    "df_range.filter(col(\"first_letter\") == \"A\").orderBy(\"cum_prop100k\").show(10, truncate=False)\n"
   ]
  },
  {
   "cell_type": "code",
   "execution_count": null,
   "id": "70ccd19a",
   "metadata": {},
   "outputs": [
    {
     "name": "stdout",
     "output_type": "stream",
     "text": [
      "+------------+----------+----------+--------------------+-------------------+\n",
      "|first_letter|letter_cnt|letter_sum|letter_cum_prop100k |avg_pctaian        |\n",
      "+------------+----------+----------+--------------------+-------------------+\n",
      "|K           |9246      |8669408   |7.780379563500003E8 |0.41398550724637684|\n",
      "|F           |5722      |8981809   |4.7415834726000005E8|0.48603809856693475|\n",
      "|Q           |437       |642349    |3.617222983999999E7 |0.6448283752860411 |\n",
      "|E           |3338      |4932313   |2.765225303E8       |0.6270970641102457 |\n",
      "|T           |6406      |9413187   |5.3508646858000004E8|0.9182875429285047 |\n",
      "|B           |14204     |22587641  |1.1754116904900014E9|0.7607040270346377 |\n",
      "|Y           |1100      |1684921   |9.185053141000001E7 |1.6518090909090908 |\n",
      "|M           |13521     |25610240  |1.11770524926E9     |0.4157333037497226 |\n",
      "|L           |8354      |13045257  |6.92154241440001E8  |0.7524299736653103 |\n",
      "|V           |4257      |4657504   |3.575125713999999E8 |0.28505050505050505|\n",
      "|U           |820       |617005    |6.896058562E7       |0.22158536585365857|\n",
      "|D           |9149      |12045696  |7.626659103399987E8 |0.5823445185266151 |\n",
      "|O           |2781      |4051850   |2.3156023829000002E8|0.5766522833513125 |\n",
      "|C           |10347     |20582563  |8.502455599000015E8 |0.6933710254179956 |\n",
      "|J           |2236      |7935401   |1.8560414776E8      |0.6245438282647583 |\n",
      "|Z           |2094      |1504404   |1.7759877580000013E8|0.3116284622731614 |\n",
      "|A           |6696      |10080086  |5.582264367100006E8 |0.5998611111111111 |\n",
      "|N           |3533      |5069517   |2.9414263472999996E8|0.8324794791961506 |\n",
      "|X           |48        |102201    |3925970.91          |0.26166666666666666|\n",
      "|W           |5390      |14741478  |4.4300021819999987E8|0.9563320964749537 |\n",
      "+------------+----------+----------+--------------------+-------------------+\n",
      "only showing top 20 rows\n",
      "\n"
     ]
    }
   ],
   "source": [
    "from pyspark.sql.types import *\n",
    "\n",
    "df_range.groupBy(\"first_letter\").agg(\n",
    "    count(\"*\").alias(\"letter_cnt\"),\n",
    "    sum(col(\"count\")).alias(\"letter_sum\"),\n",
    "    sum(round(col(\"cum_prop100k\"), 2)).alias(\"letter_cum_prop100k\"),\n",
    "    avg(when(((col(\"pctaian\") == '(S)') | col(\"pctaian\").isNull()), 0) \\\n",
    "        .otherwise(col(\"pctaian\").cast(DoubleType()))).alias(\"avg_pctaian\"),\n",
    ").show(20, truncate=False)"
   ]
  }
 ],
 "metadata": {
  "kernelspec": {
   "display_name": "PySpark",
   "language": "python",
   "name": "python3"
  },
  "language_info": {
   "codemirror_mode": {
    "name": "ipython",
    "version": 3
   },
   "file_extension": ".py",
   "mimetype": "text/x-python",
   "name": "python",
   "nbconvert_exporter": "python",
   "pygments_lexer": "ipython3",
   "version": "3.8.0"
  }
 },
 "nbformat": 4,
 "nbformat_minor": 5
}
