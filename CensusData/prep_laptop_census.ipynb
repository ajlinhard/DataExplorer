{
 "cells": [
  {
   "cell_type": "code",
   "execution_count": 5,
   "id": "157fa0d9",
   "metadata": {},
   "outputs": [],
   "source": [
    "from pyspark.sql import SparkSession\n",
    "\n",
    "input_data = r\"C:\\Users\\dalej\\OneDrive\\Documents\\Data\\Census_Surnames\"\n",
    "ouput_wh = r\"C:\\Users\\dalej\\OneDrive\\Documents\\DataSpark\\WH_Names\"\n",
    "\n",
    "spark = SparkSession.builder \\\n",
    "    .appName(\"Laptop Census\") \\\n",
    "    .master(\"local[*]\") \\\n",
    "    .config(\"spark.driver.host\", \"localhost\") \\\n",
    "    .enableHiveSupport() \\\n",
    "    .getOrCreate()\n",
    "\n",
    "    # .config(\"spark.sql.warehouse.dir\", ouput_wh) \\\n"
   ]
  },
  {
   "cell_type": "code",
   "execution_count": null,
   "id": "00c7b2b1",
   "metadata": {},
   "outputs": [],
   "source": [
    "df_base = spark.read.csv(input_data + r\"\\*.csv\", header=True, inferSchema=True)\n",
    "df_base.createOrReplaceTempView(\"census_surnames\")\n",
    "df_base.count()"
   ]
  }
 ],
 "metadata": {
  "kernelspec": {
   "display_name": "PySpark",
   "language": "python",
   "name": "python3"
  },
  "language_info": {
   "codemirror_mode": {
    "name": "ipython",
    "version": 3
   },
   "file_extension": ".py",
   "mimetype": "text/x-python",
   "name": "python",
   "nbconvert_exporter": "python",
   "pygments_lexer": "ipython3",
   "version": "3.11.0"
  }
 },
 "nbformat": 4,
 "nbformat_minor": 5
}
