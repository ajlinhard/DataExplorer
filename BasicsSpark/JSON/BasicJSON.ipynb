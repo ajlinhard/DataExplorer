{
 "cells": [
  {
   "cell_type": "code",
   "execution_count": 1,
   "id": "b4799ee5",
   "metadata": {},
   "outputs": [],
   "source": [
    "from pyspark.sql import SparkSession\n",
    "from pyspark.sql.functions import *\n",
    "from pyspark.sql.types import *\n",
    "import json\n",
    "\n",
    "# Create Spark session\n",
    "spark = SparkSession.builder \\\n",
    "    .appName(\"Test Spark JSONs\") \\\n",
    "    .master(\"local[*]\") \\\n",
    "    .enableHiveSupport() \\\n",
    "    .getOrCreate()\n",
    "\n",
    "# Sample data with JSON strings\n",
    "json_data = [\n",
    "    ('{\"name\": \"John\", \"age\": 30, \"city\": \"NYC\"}',),\n",
    "    ('{\"name\": \"Jane\", \"age\": 25, \"city\": \"LA\"}',),\n",
    "]\n",
    "   "
   ]
  },
  {
   "cell_type": "code",
   "execution_count": 2,
   "id": "9a3b57eb",
   "metadata": {},
   "outputs": [
    {
     "name": "stdout",
     "output_type": "stream",
     "text": [
      "+------------------------------------------+---------------+\n",
      "|json_string                               |json_data      |\n",
      "+------------------------------------------+---------------+\n",
      "|{\"name\": \"John\", \"age\": 30, \"city\": \"NYC\"}|{John, 30, NYC}|\n",
      "|{\"name\": \"Jane\", \"age\": 25, \"city\": \"LA\"} |{Jane, 25, LA} |\n",
      "+------------------------------------------+---------------+\n",
      "\n"
     ]
    }
   ],
   "source": [
    "\n",
    "df_str = spark.createDataFrame(json_data, [\"json_string\"])\n",
    "# Convert JSON string to struct\n",
    "struct_json = StructType([\n",
    "    StructField('name', dataType=StringType(), nullable=True),\n",
    "    StructField('age', dataType=IntegerType(), nullable=True),\n",
    "    StructField('city', dataType=StringType(), nullable=True),\n",
    "])\n",
    "\n",
    "df_json = df_str.select('json_string', from_json(col(\"json_string\"), struct_json).alias(\"json_data\"))\n",
    "df_json.show(truncate=False)"
   ]
  },
  {
   "cell_type": "code",
   "execution_count": 3,
   "id": "2df8f233",
   "metadata": {},
   "outputs": [
    {
     "name": "stdout",
     "output_type": "stream",
     "text": [
      "+----+---+----+\n",
      "|name|age|city|\n",
      "+----+---+----+\n",
      "|John|30 |NYC |\n",
      "|Jane|25 |LA  |\n",
      "+----+---+----+\n",
      "\n",
      "root\n",
      " |-- name: string (nullable = true)\n",
      " |-- age: integer (nullable = true)\n",
      " |-- city: string (nullable = true)\n",
      "\n"
     ]
    },
    {
     "data": {
      "text/plain": [
       "['name', 'age', 'city']"
      ]
     },
     "execution_count": 3,
     "metadata": {},
     "output_type": "execute_result"
    }
   ],
   "source": [
    "df_extracted_json = df_json.select(col(\"json_data.name\").alias(\"name\"),\n",
    "                                   col(\"json_data.age\").alias(\"age\"),\n",
    "                                   col(\"json_data.city\").alias(\"city\"))\n",
    "df_extracted_json.show(truncate=False)\n",
    "df_extracted_json.printSchema()\n",
    "df_extracted_json.columns"
   ]
  },
  {
   "cell_type": "code",
   "execution_count": 5,
   "id": "980aab68",
   "metadata": {},
   "outputs": [
    {
     "name": "stdout",
     "output_type": "stream",
     "text": [
      "+----+---+----+\n",
      "|name|age|city|\n",
      "+----+---+----+\n",
      "|John|30 |NYC |\n",
      "|Jane|25 |LA  |\n",
      "+----+---+----+\n",
      "\n"
     ]
    }
   ],
   "source": [
    "df_sel = df_extracted_json.select('*')\n",
    "df_sel.show(truncate=False)"
   ]
  },
  {
   "cell_type": "code",
   "execution_count": 22,
   "id": "55d67a3d",
   "metadata": {},
   "outputs": [
    {
     "name": "stdout",
     "output_type": "stream",
     "text": [
      "Row(summary='count', name='2', age='2', city='2')\n",
      "Row(summary='mean', name=None, age='27.5', city=None)\n",
      "Row(summary='stddev', name=None, age='3.5355339059327378', city=None)\n",
      "Row(summary='min', name='Jane', age='25', city='LA')\n",
      "Row(summary='max', name='John', age='30', city='NYC')\n"
     ]
    }
   ],
   "source": [
    "column_stats = df_extracted_json.describe().collect()\n",
    "for stat in column_stats:\n",
    "    print(stat)"
   ]
  },
  {
   "cell_type": "code",
   "execution_count": null,
   "id": "7ab32d6d",
   "metadata": {},
   "outputs": [
    {
     "name": "stdout",
     "output_type": "stream",
     "text": [
      "Current database: default\n",
      "Current schema: spark_catalog\n"
     ]
    }
   ],
   "source": [
    "# [catalog].[database/schema].[table]\n",
    "current_catalog = spark.catalog.currentCatalog()\n",
    "print(f\"Current Catalog: {current_catalog}\")\n",
    "\n",
    "current_db = spark.catalog.currentDatabase()\n",
    "print(f\"Current database/schema: {current_db}\")\n"
   ]
  },
  {
   "cell_type": "code",
   "execution_count": 23,
   "id": "29f5d533",
   "metadata": {},
   "outputs": [],
   "source": [
    "df_str.write.mode(\"overwrite\").saveAsTable(\"df_str\")\n",
    "spark.sql(\"DROP TABLE IF EXISTS df_str\")\n",
    "\n",
    "df_str.write.mode(\"overwrite\").saveAsTable(\"original_jsons\")\n"
   ]
  },
  {
   "cell_type": "code",
   "execution_count": 6,
   "id": "f0fa794d",
   "metadata": {},
   "outputs": [
    {
     "name": "stdout",
     "output_type": "stream",
     "text": [
      "+------------------------------------------+---------------+\n",
      "|json_string                               |json_data      |\n",
      "+------------------------------------------+---------------+\n",
      "|{\"name\": \"John\", \"age\": 30, \"city\": \"NYC\"}|{John, 30, NYC}|\n",
      "|{\"name\": \"Jane\", \"age\": 25, \"city\": \"LA\"} |{Jane, 25, LA} |\n",
      "+------------------------------------------+---------------+\n",
      "\n"
     ]
    }
   ],
   "source": [
    "df_json_sql = spark.sql(\"\"\"\n",
    "select json_string, from_json(json_string, 'struct<name:string, age:int, city:string>') as json_data\n",
    "from original_jsons\n",
    "\"\"\")\n",
    "df_json_sql.show(truncate=False)"
   ]
  },
  {
   "cell_type": "code",
   "execution_count": 20,
   "id": "43da4c40",
   "metadata": {},
   "outputs": [
    {
     "name": "stdout",
     "output_type": "stream",
     "text": [
      "+------------------------------------------+\n",
      "|json_string                               |\n",
      "+------------------------------------------+\n",
      "|{\"name\": \"John\", \"age\": 30, \"city\": \"NYC\"}|\n",
      "|{\"name\": \"Jane\", \"age\": 25, \"city\": \"LA\"} |\n",
      "+------------------------------------------+\n",
      "\n"
     ]
    }
   ],
   "source": [
    "df = spark.table(\"spark_catalog.default.original_jsons\")\n",
    "df.show(truncate=False)"
   ]
  },
  {
   "cell_type": "markdown",
   "id": "12729a6c",
   "metadata": {},
   "source": [
    "---\n",
    "## Creating Arrays"
   ]
  },
  {
   "cell_type": "code",
   "execution_count": 8,
   "id": "1143638c",
   "metadata": {},
   "outputs": [],
   "source": [
    "# Create array from multiple columns\n",
    "df_arrays = spark.createDataFrame([\n",
    "    (\"John\", 25, 30),\n",
    "    (\"Jane\", 22, 28),\n",
    "], [\"name\", \"score1\", \"score2\"])\n",
    "\n",
    "df_with_array = df_arrays.select(\n",
    "    col(\"name\"),\n",
    "    array(col(\"score1\"), col(\"score2\")).alias(\"scores\")\n",
    ")\n",
    "\n",
    "# Create array with literals\n",
    "df_literal_array = df_arrays.select(\n",
    "    col(\"name\"),\n",
    "    array(lit(1), lit(2), lit(3)).alias(\"fixed_array\")\n",
    ")"
   ]
  },
  {
   "cell_type": "code",
   "execution_count": 9,
   "id": "ad969f94",
   "metadata": {},
   "outputs": [
    {
     "name": "stdout",
     "output_type": "stream",
     "text": [
      "+----+------+------+\n",
      "|name|score1|score2|\n",
      "+----+------+------+\n",
      "|John|25    |30    |\n",
      "|Jane|22    |28    |\n",
      "+----+------+------+\n",
      "\n",
      "+----+--------+\n",
      "|name|scores  |\n",
      "+----+--------+\n",
      "|John|[25, 30]|\n",
      "|Jane|[22, 28]|\n",
      "+----+--------+\n",
      "\n",
      "+----+-----------+\n",
      "|name|fixed_array|\n",
      "+----+-----------+\n",
      "|John|[1, 2, 3]  |\n",
      "|Jane|[1, 2, 3]  |\n",
      "+----+-----------+\n",
      "\n"
     ]
    }
   ],
   "source": [
    "df_arrays.show(truncate=False)\n",
    "df_with_array.show(truncate=False)\n",
    "df_literal_array.show(truncate=False)"
   ]
  },
  {
   "cell_type": "code",
   "execution_count": 16,
   "id": "5053edbd",
   "metadata": {},
   "outputs": [
    {
     "name": "stdout",
     "output_type": "stream",
     "text": [
      "+----+--------+----------+-----------+\n",
      "|name|scores  |array_size|contains_25|\n",
      "+----+--------+----------+-----------+\n",
      "|John|[25, 30]|2         |false      |\n",
      "|Jane|[22, 28]|2         |false      |\n",
      "+----+--------+----------+-----------+\n",
      "\n"
     ]
    }
   ],
   "source": [
    "# Array Operations\n",
    "df_with_array.select('*',size(col(\"scores\")).alias(\"array_size\")) \\\n",
    "    .select('*', array_contains(col(\"scores\"), 5).alias(\"contains_25\")).show(truncate=False)"
   ]
  },
  {
   "cell_type": "code",
   "execution_count": null,
   "id": "2698ab8f",
   "metadata": {},
   "outputs": [
    {
     "name": "stdout",
     "output_type": "stream",
     "text": [
      "+-----+---------+---------------+---------------------------------+\n",
      "|name |scores1  |scores2        |degrees                          |\n",
      "+-----+---------+---------------+---------------------------------+\n",
      "|John |[1, 2, 3]|[3, 4, 5]      |[high-school, bachelors, masters]|\n",
      "|Jane |[2, 3, 4]|[5, 6, 7]      |[high-school, bachelors]         |\n",
      "|Ron  |[1, 2, 2]|[2, 3, 4]      |[bachelors, masters]             |\n",
      "|Alice|[1, 2, 3]|[1, 5, 4, 5, 6]|[high-school, bachelors, masters]|\n",
      "+-----+---------+---------------+---------------------------------+\n",
      "\n"
     ]
    },
    {
     "data": {
      "text/plain": [
       "DataFrame[name: string, scores1: array<bigint>, scores2: array<bigint>, degrees: array<string>]"
      ]
     },
     "execution_count": 23,
     "metadata": {},
     "output_type": "execute_result"
    }
   ],
   "source": [
    "# test out array disinct, intersect, union, except\n",
    "data_rows = [\n",
    "    (\"John\", [1, 2, 3], [3,4,5], ['high-school', 'bachelors', 'masters']),\n",
    "    (\"Jane\", [2, 3, 4], [5,6,7], ['high-school', 'bachelors']),\n",
    "    (\"Ron\", [1, 2, 2], [2, 3, 4], ['bachelors', 'masters']),\n",
    "    (\"Alice\", [1, 2, 3], [1, 5, 4, 5, 6], ['high-school', 'bachelors', 'masters']),\n",
    "]\n",
    "df_arrays = spark.createDataFrame(data_rows, schema=[\"name\", \"scores1\", \"scores2\", \"degrees\"])\n",
    "df_arrays.show(truncate=False)"
   ]
  },
  {
   "cell_type": "code",
   "execution_count": 25,
   "id": "c4b6d8c4",
   "metadata": {},
   "outputs": [
    {
     "name": "stdout",
     "output_type": "stream",
     "text": [
      "+-----+---------+---------------+---------------------------------+----------------+-------+------------------+---------+\n",
      "|name |scores1  |scores2        |degrees                          |distinct_scores1|overlap|union             |except   |\n",
      "+-----+---------+---------------+---------------------------------+----------------+-------+------------------+---------+\n",
      "|John |[1, 2, 3]|[3, 4, 5]      |[high-school, bachelors, masters]|[1, 2, 3]       |[3]    |[1, 2, 3, 4, 5]   |[1, 2, 3]|\n",
      "|Jane |[2, 3, 4]|[5, 6, 7]      |[high-school, bachelors]         |[2, 3, 4]       |[]     |[2, 3, 4, 5, 6, 7]|[2, 3, 7]|\n",
      "|Ron  |[1, 2, 2]|[2, 3, 4]      |[bachelors, masters]             |[1, 2]          |[2]    |[1, 2, 3, 4]      |[1, 2, 3]|\n",
      "|Alice|[1, 2, 3]|[1, 5, 4, 5, 6]|[high-school, bachelors, masters]|[1, 2, 3]       |[1]    |[1, 2, 3, 5, 4, 6]|[1, 2, 3]|\n",
      "+-----+---------+---------------+---------------------------------+----------------+-------+------------------+---------+\n",
      "\n"
     ]
    }
   ],
   "source": [
    "df_arr_op = df_arrays.alias('arr').withColumn(\"distinct_scores1\", array_distinct(col(\"scores1\"))) \\\n",
    "    .withColumn(\"overlap\", array_intersect(col(\"scores1\"), col(\"scores2\"))) \\\n",
    "    .withColumn(\"union\", array_union(col(\"scores1\"), col(\"arr.scores2\"))) \\\n",
    "    .withColumn(\"except\", array_except(col(\"union\"), array(lit(4),lit(5),lit(6))))\n",
    "\n",
    "df_arr_op.show(truncate=False)"
   ]
  },
  {
   "cell_type": "code",
   "execution_count": 32,
   "id": "ec33d33e",
   "metadata": {},
   "outputs": [
    {
     "name": "stdout",
     "output_type": "stream",
     "text": [
      "+------------------------------------+-------+--------------------------+------------+-----+---------+---------------+---------------------------------+----------------+-------+------------------+---------+\n",
      "|uid                                 |row_num|inserted_dt               |degree_level|name |scores1  |scores2        |degrees                          |distinct_scores1|overlap|union             |except   |\n",
      "+------------------------------------+-------+--------------------------+------------+-----+---------+---------------+---------------------------------+----------------+-------+------------------+---------+\n",
      "|15eca0ca-3f7f-4994-8445-20ae46e05812|1      |2025-06-08 11:01:33.801207|1           |Alice|[1, 2, 3]|[1, 5, 4, 5, 6]|[high-school, bachelors, masters]|[1, 2, 3]       |[1]    |[1, 2, 3, 5, 4, 6]|[1, 2, 3]|\n",
      "|55df402e-ad96-47c3-b052-5a34c7eed2da|2      |2025-06-08 11:01:33.801207|1           |Jane |[2, 3, 4]|[5, 6, 7]      |[high-school, bachelors]         |[2, 3, 4]       |[]     |[2, 3, 4, 5, 6, 7]|[2, 3, 7]|\n",
      "|6bc3cfe3-7647-4c78-8003-35bd98f39f01|3      |2025-06-08 11:01:33.801207|1           |John |[1, 2, 3]|[3, 4, 5]      |[high-school, bachelors, masters]|[1, 2, 3]       |[3]    |[1, 2, 3, 4, 5]   |[1, 2, 3]|\n",
      "|a923410f-32bf-4ab6-a8c1-3cf1699fe936|4      |2025-06-08 11:01:33.801207|2           |Ron  |[1, 2, 2]|[2, 3, 4]      |[bachelors, masters]             |[1, 2]          |[2]    |[1, 2, 3, 4]      |[1, 2, 3]|\n",
      "+------------------------------------+-------+--------------------------+------------+-----+---------+---------------+---------------------------------+----------------+-------+------------------+---------+\n",
      "\n"
     ]
    }
   ],
   "source": [
    "df_options = df_arr_op.selectExpr(\"uuid() as uid\",\n",
    "    \"row_number() over(order by name) as row_num\",\n",
    "    \"current_timestamp() as inserted_dt\",\n",
    "    \"\"\"case when array_contains(degrees, 'high-school') then 1\n",
    "        when array_contains(degrees, 'bachelors') then 2\n",
    "        when array_contains(degrees, 'masters') then 3\n",
    "        else 0 end as degree_level \"\"\",\n",
    "    \"*\")\n",
    "\n",
    "df_options.show(truncate=False)"
   ]
  }
 ],
 "metadata": {
  "kernelspec": {
   "display_name": "PySpark",
   "language": "python",
   "name": "python3"
  },
  "language_info": {
   "codemirror_mode": {
    "name": "ipython",
    "version": 3
   },
   "file_extension": ".py",
   "mimetype": "text/x-python",
   "name": "python",
   "nbconvert_exporter": "python",
   "pygments_lexer": "ipython3",
   "version": "3.8.0"
  }
 },
 "nbformat": 4,
 "nbformat_minor": 5
}
