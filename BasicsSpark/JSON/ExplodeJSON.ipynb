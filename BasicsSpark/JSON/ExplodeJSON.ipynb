{
 "cells": [
  {
   "cell_type": "code",
   "execution_count": 1,
   "id": "8a99b138",
   "metadata": {},
   "outputs": [],
   "source": [
    "from pyspark.sql import SparkSession\n",
    "from pyspark.sql.functions import *\n",
    "from pyspark.sql.types import *\n",
    "import json\n",
    "\n",
    "# Create Spark session\n",
    "spark = SparkSession.builder \\\n",
    "    .appName(\"Test Spark JSONs\") \\\n",
    "    .master(\"local[*]\") \\\n",
    "    .enableHiveSupport() \\\n",
    "    .getOrCreate()\n",
    "\n",
    "# Sample data with array of structs\n",
    "complex_data = [\n",
    "    (\"John\", [{\"course\": \"Math\", \"grade\": 85}, {\"course\": \"Science\", \"grade\": 92}]),\n",
    "    (\"Jane\", [{\"course\": \"Math\", \"grade\": 78}, {\"course\": \"Science\", \"grade\": 88}]),\n",
    "]"
   ]
  },
  {
   "cell_type": "code",
   "execution_count": 4,
   "id": "7cd9749e",
   "metadata": {},
   "outputs": [
    {
     "name": "stdout",
     "output_type": "stream",
     "text": [
      "+----+--------------------+\n",
      "|  _1|                  _2|\n",
      "+----+--------------------+\n",
      "|John|[{course -> Math,...|\n",
      "|Jane|[{course -> Math,...|\n",
      "+----+--------------------+\n",
      "\n",
      "root\n",
      " |-- _1: string (nullable = true)\n",
      " |-- _2: array (nullable = true)\n",
      " |    |-- element: map (containsNull = true)\n",
      " |    |    |-- key: string\n",
      " |    |    |-- value: string (valueContainsNull = true)\n",
      "\n"
     ]
    }
   ],
   "source": [
    "df_raw = spark.createDataFrame(complex_data)\n",
    "df_raw.show()\n",
    "df_raw.printSchema()\n"
   ]
  },
  {
   "cell_type": "code",
   "execution_count": 5,
   "id": "efa4dfea",
   "metadata": {},
   "outputs": [
    {
     "name": "stdout",
     "output_type": "stream",
     "text": [
      "+----+---------------------------+\n",
      "|name|courses                    |\n",
      "+----+---------------------------+\n",
      "|John|[{Math, 85}, {Science, 92}]|\n",
      "|Jane|[{Math, 78}, {Science, 88}]|\n",
      "+----+---------------------------+\n",
      "\n",
      "root\n",
      " |-- name: string (nullable = true)\n",
      " |-- courses: array (nullable = true)\n",
      " |    |-- element: struct (containsNull = true)\n",
      " |    |    |-- course: string (nullable = true)\n",
      " |    |    |-- grade: integer (nullable = true)\n",
      "\n"
     ]
    }
   ],
   "source": [
    "complex_schema = StructType([\n",
    "    StructField(\"name\", StringType(), True),\n",
    "    StructField(\"courses\", ArrayType(StructType([\n",
    "        StructField(\"course\", StringType(), True),\n",
    "        StructField(\"grade\", IntegerType(), True)\n",
    "    ]), True\n",
    "    ))\n",
    "])\n",
    "\n",
    "df_complex = spark.createDataFrame(complex_data, schema=complex_schema)\n",
    "df_complex.show(truncate=False)\n",
    "df_complex.printSchema()"
   ]
  },
  {
   "cell_type": "code",
   "execution_count": 7,
   "id": "ba5e987e",
   "metadata": {},
   "outputs": [
    {
     "name": "stdout",
     "output_type": "stream",
     "text": [
      "+----+---------------+------------------+\n",
      "|name|course         |first_course_grade|\n",
      "+----+---------------+------------------+\n",
      "|John|[Math, Science]|85                |\n",
      "|Jane|[Math, Science]|78                |\n",
      "+----+---------------+------------------+\n",
      "\n"
     ]
    }
   ],
   "source": [
    "df_complex.select(\n",
    "    col(\"name\"),\n",
    "    col(\"courses.course\").alias(\"course\"),\n",
    "    col(\"courses\")[0].grade.alias(\"first_course_grade\")\n",
    ").show(truncate=False)"
   ]
  },
  {
   "cell_type": "code",
   "execution_count": 23,
   "id": "bcb86c8c",
   "metadata": {},
   "outputs": [
    {
     "name": "stdout",
     "output_type": "stream",
     "text": [
      "+----+-------------+\n",
      "|name|courses      |\n",
      "+----+-------------+\n",
      "|John|{Math, 85}   |\n",
      "|John|{Science, 92}|\n",
      "|Jane|{Math, 78}   |\n",
      "|Jane|{Science, 88}|\n",
      "+----+-------------+\n",
      "\n",
      "root\n",
      " |-- name: string (nullable = true)\n",
      " |-- courses: struct (nullable = true)\n",
      " |    |-- course: string (nullable = true)\n",
      " |    |-- grade: integer (nullable = true)\n",
      "\n"
     ]
    }
   ],
   "source": [
    "df_explode = df_complex.select(\n",
    "    col(\"name\"),\n",
    "    explode(col(\"courses\")).alias(\"courses\"),\n",
    "    # explode(col(\"courses.course\")).alias(\"course_info\"),\n",
    "    # explode(col(\"courses.grade\")).alias(\"grade_info\")\n",
    ")\n",
    "df_explode.show(truncate=False)\n",
    "df_explode.printSchema()"
   ]
  },
  {
   "cell_type": "code",
   "execution_count": 24,
   "id": "3d6740c2",
   "metadata": {},
   "outputs": [
    {
     "name": "stdout",
     "output_type": "stream",
     "text": [
      "+-------+-------------+\n",
      "|course |courses.grade|\n",
      "+-------+-------------+\n",
      "|Math   |85           |\n",
      "|Science|92           |\n",
      "|Math   |78           |\n",
      "|Science|88           |\n",
      "+-------+-------------+\n",
      "\n"
     ]
    }
   ],
   "source": [
    "df_explode.select(col(\"courses.course\"), col(\"courses\").grade).show(truncate=False)"
   ]
  },
  {
   "cell_type": "code",
   "execution_count": 29,
   "id": "4baa78f8",
   "metadata": {},
   "outputs": [
    {
     "name": "stdout",
     "output_type": "stream",
     "text": [
      "+----+------+\n",
      "|name|number|\n",
      "+----+------+\n",
      "|John|1     |\n",
      "|John|2     |\n",
      "|John|3     |\n",
      "|Jane|NULL  |\n",
      "|Bob |NULL  |\n",
      "+----+------+\n",
      "\n"
     ]
    },
    {
     "data": {
      "text/plain": [
       "5"
      ]
     },
     "execution_count": 29,
     "metadata": {},
     "output_type": "execute_result"
    }
   ],
   "source": [
    "# explode_outer keeps rows even if array is null/empty\n",
    "df_with_nulls = spark.createDataFrame([\n",
    "    (\"John\", [1, 2, 3]),\n",
    "    (\"Jane\", None),\n",
    "    (\"Bob\", [])\n",
    "], [\"name\", \"numbers\"])\n",
    "\n",
    "df_outer_exploded = df_with_nulls.select(\n",
    "    col(\"name\"),\n",
    "    explode_outer(col(\"numbers\")).alias(\"number\")\n",
    ")\n",
    "df_outer_exploded.show(truncate=False)\n",
    "df_outer_exploded.count()"
   ]
  },
  {
   "cell_type": "code",
   "execution_count": null,
   "id": "7c82cb41",
   "metadata": {},
   "outputs": [],
   "source": [
    "CREATE TABLE processed_data AS\n",
    "SELECT *,\n",
    "       monotonically_increasing_id() AS record_id,\n",
    "       current_timestamp() AS processed_at,\n",
    "       'system' AS created_by,\n",
    "       1 AS version\n",
    "FROM raw_data;"
   ]
  }
 ],
 "metadata": {
  "kernelspec": {
   "display_name": "PySpark",
   "language": "python",
   "name": "python3"
  },
  "language_info": {
   "codemirror_mode": {
    "name": "ipython",
    "version": 3
   },
   "file_extension": ".py",
   "mimetype": "text/x-python",
   "name": "python",
   "nbconvert_exporter": "python",
   "pygments_lexer": "ipython3",
   "version": "3.8.0"
  }
 },
 "nbformat": 4,
 "nbformat_minor": 5
}
